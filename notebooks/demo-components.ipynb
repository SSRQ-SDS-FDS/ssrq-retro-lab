{
 "cells": [
  {
   "cell_type": "markdown",
   "metadata": {},
   "source": [
    "# Demo Text extraction, cleanup, classification and correction"
   ]
  },
  {
   "cell_type": "code",
   "execution_count": 35,
   "metadata": {},
   "outputs": [],
   "source": [
    "from ssrq_retro_lab.pipeline.components import text_extractor, html_wrangler, text_classifier, ocr_corrector"
   ]
  },
  {
   "cell_type": "code",
   "execution_count": 31,
   "metadata": {},
   "outputs": [
    {
     "name": "stdout",
     "output_type": "stream",
     "text": [
      "VolumeEntry(title='Amtsgeheimnis.', date='1644 Juli 28', no=585, pages=(378,))\n"
     ]
    }
   ],
   "source": [
    "text_extraction_result = text_extractor.TextExtractor().invoke(\n",
    "    text_extractor.ExtractionInput(article_number=585)\n",
    ").unwrap()\n"
   ]
  },
  {
   "cell_type": "markdown",
   "metadata": {},
   "source": [
    "As shown below, the text extraction component contains the full HTML export of all pages, which are relevant for the requested article. The extraction, which is done by `PyMuPDF` uses simple tagging rules:\n",
    "\n",
    "- `<div>` for a page \n",
    "- `<p>` for each line \n",
    "- `<span>` for text with different styles (e.g. bold, italic, etc.) in a line\n",
    "- `<i>` and `<b>` for italic and bold text"
   ]
  },
  {
   "cell_type": "code",
   "execution_count": 32,
   "metadata": {},
   "outputs": [
    {
     "data": {
      "text/markdown": [
       "```html\n",
       "<div id=\"page0\" style=\"width:484.8pt;height:737.5pt\">\n",
       "<p style=\"top:80.4pt;left:71.4pt;line-height:9.0pt\"><span style=\"font-family:Cambria,serif;font-size:9.0pt\">378 </span></p>\n",
       "<p style=\"top:80.4pt;left:101.7pt;line-height:9.0pt\"><span style=\"font-family:Cambria,serif;font-size:9.0pt\">II. Stadt und Amt</span></p>\n",
       "<p style=\"top:104.7pt;left:101.9pt;line-height:10.0pt\"><i><span style=\"font-family:Times New Roman,serif;font-size:10.0pt\">1637 Mai 11.</span></i></p>\n",
       "<p style=\"top:117.4pt;left:76.4pt;line-height:10.0pt\"><span style=\"font-family:Times New Roman,serif;font-size:10.0pt\">584. </span><i><span style=\"font-family:Times New Roman,serif;font-size:10.0pt\">Stadt- und Amtrat, Beginn</span></i></p>\n",
       "<p style=\"top:130.2pt;left:101.8pt;line-height:10.0pt\"><i><span style=\"font-family:Times New Roman,serif;font-size:10.0pt\">Der Stadt- und Amtrat beginnt im Sommer um 9 Uhr, im Winter um</span></i><span style=\"font-family:Times New Roman,serif;font-size:10.0pt\"> </span></p>\n",
       "<p style=\"top:143.1pt;left:102.0pt;line-height:10.0pt\"><i><span style=\"font-family:Times New Roman,serif;font-size:10.0pt\">10 Uhr. Der Ratsherr ist bei seinem Eide zu pünktlichem Erscheinen</span></i></p>\n",
       "<p style=\"top:156.0pt;left:90.2pt;line-height:10.0pt\"><span style=\"font-family:Times New Roman,serif;font-size:10.0pt\">5 </span><i><span style=\"font-family:Times New Roman,serif;font-size:10.0pt\">verpflichtet. Wegbleiben ohne begründete Ursache ist strafbar.</span></i></p>\n",
       "<p style=\"top:172.3pt;left:101.9pt;line-height:8.0pt\"><b><i><span style=\"font-family:Times New Roman,serif;font-size:8.0pt\">St AR 1,79. -  Vgl. auch ebd. 1,122. Unberechtigtes Wegbleiben wird mit 2 Ib gebüßt.</span></i></b><span style=\"font-family:Times New Roman,serif;font-size:8.0pt\"> </span></p>\n",
       "<p style=\"top:183.1pt;left:101.5pt;line-height:8.0pt\"><b><i><span style=\"font-family:Times New Roman,serif;font-size:8.0pt\">-  Vgl. ebenso 2, 342; 3,1, 39, 364; 4, 260.</span></i></b></p>\n",
       "<p style=\"top:200.2pt;left:102.0pt;line-height:10.0pt\"><i><span style=\"font-family:Times New Roman,serif;font-size:10.0pt\">1644 Juli 28.</span></i></p>\n",
       "<p style=\"top:213.0pt;left:76.7pt;line-height:10.0pt\"><span style=\"font-family:Times New Roman,serif;font-size:10.0pt\">585. </span><i><span style=\"font-family:Times New Roman,serif;font-size:10.0pt\">Amtsgeheimnis</span></i></p>\n",
       "<p style=\"top:226.0pt;left:87.2pt;line-height:10.0pt\"><span style=\"font-family:Times New Roman,serif;font-size:10.0pt\">io </span><i><span style=\"font-family:Times New Roman,serif;font-size:10.0pt\">Ratsherren und Diener sollen das Amtsgeheimnis wahren, nichts aus</span></i><span style=\"font-family:Times New Roman,serif;font-size:10.0pt\"> </span></p>\n",
       "<p style=\"top:238.9pt;left:102.1pt;line-height:10.0pt\"><i><span style=\"font-family:Times New Roman,serif;font-size:10.0pt\">dem Rat und von den Malefikanten im Turm ausschwatzen, ansonst</span></i><span style=\"font-family:Times New Roman,serif;font-size:10.0pt\"> </span></p>\n",
       "<p style=\"top:251.7pt;left:102.1pt;line-height:10.0pt\"><i><span style=\"font-family:Times New Roman,serif;font-size:10.0pt\">sie für drei Monate des Amts und des Dienstes enthoben sind und 50 Ib</span></i><span style=\"font-family:Times New Roman,serif;font-size:10.0pt\"> </span></p>\n",
       "<p style=\"top:264.8pt;left:102.0pt;line-height:10.0pt\"><i><span style=\"font-family:Times New Roman,serif;font-size:10.0pt\">Buße zu erstatten haben.</span></i><span style=\"font-family:Times New Roman,serif;font-size:10.0pt\"> Und wan auch sonderbar bersonen uf myn </span></p>\n",
       "<p style=\"top:277.5pt;left:102.0pt;line-height:10.0pt\"><span style=\"font-family:Times New Roman,serif;font-size:10.0pt\">herren argwonen wurden und in solches verwysen tetten, sollen umb</span></p>\n",
       "<p style=\"top:290.5pt;left:87.5pt;line-height:10.0pt\"><span style=\"font-family:Times New Roman,serif;font-size:10.0pt\">15 60 lb oder 35 kronen abgebüst werden.</span></p>\n",
       "<p style=\"top:306.7pt;left:102.3pt;line-height:8.0pt\"><b><i><span style=\"font-family:Times New Roman,serif;font-size:8.0pt\">StAR 3, 22. -  Vgl. auch ebd. 6, 86.</span></i></b></p>\n",
       "<p style=\"top:326.0pt;left:102.5pt;line-height:10.0pt\"><i><span style=\"font-family:Times New Roman,serif;font-size:10.0pt\">1671 Juni 26.</span></i></p>\n",
       "<p style=\"top:338.9pt;left:76.9pt;line-height:10.0pt\"><span style=\"font-family:Times New Roman,serif;font-size:10.0pt\">586. </span><i><span style=\"font-family:Times New Roman,serif;font-size:10.0pt\">Gebühr für gekauften Stadt- und Amtrat</span></i></p>\n",
       "<p style=\"top:351.9pt;left:103.4pt;line-height:10.0pt\"><i><span style=\"font-family:Times New Roman,serif;font-size:10.0pt\">Wer fürderhin Stadt- und Amtrat begehrt, soll zuvor 24 Kronen erlegen.</span></i></p>\n",
       "<p style=\"top:369.6pt;left:87.2pt;line-height:6.0pt\"><span style=\"font-family:Times New Roman,serif;font-size:6.0pt\">20 </span></p>\n",
       "<p style=\"top:368.0pt;left:102.2pt;line-height:8.0pt\"><b><i><span style=\"font-family:Times New Roman,serif;font-size:8.0pt\">StAR 6,221.</span></i></b></p>\n",
       "<p style=\"top:387.1pt;left:102.5pt;line-height:10.0pt\"><i><span style=\"font-family:Times New Roman,serif;font-size:10.0pt\">1691 Marz 23.</span></i></p>\n",
       "<p style=\"top:400.0pt;left:77.2pt;line-height:10.0pt\"><span style=\"font-family:Times New Roman,serif;font-size:10.0pt\">587. </span><i><span style=\"font-family:Times New Roman,serif;font-size:10.0pt\">Die Instruktionen für die Ehrengesandten der Tagsatzung gehen von</span></i><span style=\"font-family:Times New Roman,serif;font-size:10.0pt\"> </span></p>\n",
       "<p style=\"top:412.9pt;left:102.4pt;line-height:10.0pt\"><i><span style=\"font-family:Times New Roman,serif;font-size:10.0pt\">ihren Gemeinden aus.</span></i></p>\n",
       "<p style=\"top:429.1pt;left:102.5pt;line-height:8.0pt\"><b><i><span style=\"font-family:Times New Roman,serif;font-size:8.0pt\">StAR 11,114.</span></i></b></p>\n",
       "<p style=\"top:451.7pt;left:87.2pt;line-height:6.0pt\"><span style=\"font-family:Times New Roman,serif;font-size:6.0pt\">25 </span><i><span style=\"font-family:Times New Roman,serif;font-size:10.0pt\">1695 August 29.</span></i></p>\n",
       "<p style=\"top:461.2pt;left:77.3pt;line-height:10.0pt\"><span style=\"font-family:Times New Roman,serif;font-size:10.0pt\">588. </span><i><span style=\"font-family:Times New Roman,serif;font-size:10.0pt\">Standesvertretung bei fürstlichen Ritten</span></i></p>\n",
       "<p style=\"top:477.7pt;left:102.3pt;line-height:8.0pt\"><b><i><span style=\"font-family:Times New Roman,serif;font-size:8.0pt\">EA VI, 2, S.566, Nr. 308 t; dazu S.579, Nr. 312 b; S.590, Nr. 318 q; S.610, Nr. 330</span></i></b><span style=\"font-family:Times New Roman,serif;font-size:8.0pt\"> </span></p>\n",
       "<p style=\"top:488.4pt;left:102.0pt;line-height:8.0pt\"><b><i><span style=\"font-family:Times New Roman,serif;font-size:8.0pt\">g; S.624, Nr. 335 nnn; S.989, Nr. 493 a.</span></i></b></p>\n",
       "<p style=\"top:507.4pt;left:102.6pt;line-height:10.0pt\"><i><span style=\"font-family:Times New Roman,serif;font-size:10.0pt\">1702 Januar 2.</span></i></p>\n",
       "<p style=\"top:520.2pt;left:77.3pt;line-height:10.0pt\"><span style=\"font-family:Times New Roman,serif;font-size:10.0pt\">589. </span><i><span style=\"font-family:Times New Roman,serif;font-size:10.0pt\">Stipendien müssen in Stadt und Amt zur freien Bewerbung ausge­</span></i></p>\n",
       "<p style=\"top:532.7pt;left:102.6pt;line-height:10.0pt\"><i><span style=\"font-family:Times New Roman,serif;font-size:10.0pt\">kündigt werden.</span></i></p>\n",
       "<p style=\"top:548.9pt;left:102.7pt;line-height:8.0pt\"><b><i><span style=\"font-family:Times New Roman,serif;font-size:8.0pt\">StAR 14,265.</span></i></b></p>\n",
       "<p style=\"top:567.9pt;left:102.8pt;line-height:10.0pt\"><i><span style=\"font-family:Times New Roman,serif;font-size:10.0pt\">1722 M a ill.</span></i></p>\n",
       "<p style=\"top:580.7pt;left:77.4pt;line-height:10.0pt\"><span style=\"font-family:Times New Roman,serif;font-size:10.0pt\">590. </span><i><span style=\"font-family:Times New Roman,serif;font-size:10.0pt\">Wegen unanständigem Tabakschmauchen wahrend der Ratszeit vor der</span></i></p>\n",
       "<p style=\"top:596.9pt;left:87.6pt;line-height:6.0pt\"><span style=\"font-family:Times New Roman,serif;font-size:6.0pt\">35 </span><i><span style=\"font-family:Times New Roman,serif;font-size:10.0pt\">Ratsstube auf dem vordem, hintern und untern Estrich sowohl der</span></i></p>\n",
       "</div>\n",
       "\n",
       "```"
      ],
      "text/plain": [
       "<IPython.core.display.Markdown object>"
      ]
     },
     "execution_count": 32,
     "metadata": {},
     "output_type": "execute_result"
    }
   ],
   "source": [
    "from IPython.display import Markdown as md\n",
    "\n",
    "md(\"```html\\n{}\\n```\".format(text_extraction_result['pages'][0]))"
   ]
  },
  {
   "cell_type": "markdown",
   "metadata": {},
   "source": [
    "The cleanup component (`HTMLWrangler`) is responsible to identify the relevant child elements of all pages. All irrelevant elements are dropped.\n",
    "\n",
    "The cleanup is done in two steps:\n",
    "\n",
    "1. The (running) header is removed from each page \n",
    "2. The nodes are identified"
   ]
  },
  {
   "cell_type": "code",
   "execution_count": 33,
   "metadata": {},
   "outputs": [
    {
     "name": "stderr",
     "output_type": "stream",
     "text": [
      "\u001b[32m2024-02-24 16:17:04.275\u001b[0m | \u001b[34m\u001b[1mDEBUG   \u001b[0m | \u001b[36mssrq_retro_lab.pipeline.components.html_wrangler\u001b[0m:\u001b[36minvoke\u001b[0m:\u001b[36m34\u001b[0m - \u001b[34m\u001b[1mPages after removing header for article 585:\n",
      " ('<div id=\"page0\" style=\"width:484.8pt;height:737.5pt\">\\n<p style=\"top:104.7pt;left:101.9pt;line-height:10.0pt\"><i><span style=\"font-family:Times New Roman,serif;font-size:10.0pt\">1637 Mai 11.</span></i></p>\\n<p style=\"top:117.4pt;left:76.4pt;line-height:10.0pt\"><span style=\"font-family:Times New Roman,serif;font-size:10.0pt\">584. </span><i><span style=\"font-family:Times New Roman,serif;font-size:10.0pt\">Stadt- und Amtrat, Beginn</span></i></p>\\n<p style=\"top:130.2pt;left:101.8pt;line-height:10.0pt\"><i><span style=\"font-family:Times New Roman,serif;font-size:10.0pt\">Der Stadt- und Amtrat beginnt im Sommer um 9 Uhr, im Winter um</span></i><span style=\"font-family:Times New Roman,serif;font-size:10.0pt\"> </span></p>\\n<p style=\"top:143.1pt;left:102.0pt;line-height:10.0pt\"><i><span style=\"font-family:Times New Roman,serif;font-size:10.0pt\">10 Uhr. Der Ratsherr ist bei seinem Eide zu pünktlichem Erscheinen</span></i></p>\\n<p style=\"top:156.0pt;left:90.2pt;line-height:10.0pt\"><span style=\"font-family:Times New Roman,serif;font-size:10.0pt\">5 </span><i><span style=\"font-family:Times New Roman,serif;font-size:10.0pt\">verpflichtet. Wegbleiben ohne begründete Ursache ist strafbar.</span></i></p>\\n<p style=\"top:172.3pt;left:101.9pt;line-height:8.0pt\"><b><i><span style=\"font-family:Times New Roman,serif;font-size:8.0pt\">St AR 1,79. -  Vgl. auch ebd. 1,122. Unberechtigtes Wegbleiben wird mit 2 Ib gebüßt.</span></i></b><span style=\"font-family:Times New Roman,serif;font-size:8.0pt\"> </span></p>\\n<p style=\"top:183.1pt;left:101.5pt;line-height:8.0pt\"><b><i><span style=\"font-family:Times New Roman,serif;font-size:8.0pt\">-  Vgl. ebenso 2, 342; 3,1, 39, 364; 4, 260.</span></i></b></p>\\n<p style=\"top:200.2pt;left:102.0pt;line-height:10.0pt\"><i><span style=\"font-family:Times New Roman,serif;font-size:10.0pt\">1644 Juli 28.</span></i></p>\\n<p style=\"top:213.0pt;left:76.7pt;line-height:10.0pt\"><span style=\"font-family:Times New Roman,serif;font-size:10.0pt\">585. </span><i><span style=\"font-family:Times New Roman,serif;font-size:10.0pt\">Amtsgeheimnis</span></i></p>\\n<p style=\"top:226.0pt;left:87.2pt;line-height:10.0pt\"><span style=\"font-family:Times New Roman,serif;font-size:10.0pt\">io </span><i><span style=\"font-family:Times New Roman,serif;font-size:10.0pt\">Ratsherren und Diener sollen das Amtsgeheimnis wahren, nichts aus</span></i><span style=\"font-family:Times New Roman,serif;font-size:10.0pt\"> </span></p>\\n<p style=\"top:238.9pt;left:102.1pt;line-height:10.0pt\"><i><span style=\"font-family:Times New Roman,serif;font-size:10.0pt\">dem Rat und von den Malefikanten im Turm ausschwatzen, ansonst</span></i><span style=\"font-family:Times New Roman,serif;font-size:10.0pt\"> </span></p>\\n<p style=\"top:251.7pt;left:102.1pt;line-height:10.0pt\"><i><span style=\"font-family:Times New Roman,serif;font-size:10.0pt\">sie für drei Monate des Amts und des Dienstes enthoben sind und 50 Ib</span></i><span style=\"font-family:Times New Roman,serif;font-size:10.0pt\"> </span></p>\\n<p style=\"top:264.8pt;left:102.0pt;line-height:10.0pt\"><i><span style=\"font-family:Times New Roman,serif;font-size:10.0pt\">Buße zu erstatten haben.</span></i><span style=\"font-family:Times New Roman,serif;font-size:10.0pt\"> Und wan auch sonderbar bersonen uf myn </span></p>\\n<p style=\"top:277.5pt;left:102.0pt;line-height:10.0pt\"><span style=\"font-family:Times New Roman,serif;font-size:10.0pt\">herren argwonen wurden und in solches verwysen tetten, sollen umb</span></p>\\n<p style=\"top:290.5pt;left:87.5pt;line-height:10.0pt\"><span style=\"font-family:Times New Roman,serif;font-size:10.0pt\">15 60 lb oder 35 kronen abgebüst werden.</span></p>\\n<p style=\"top:306.7pt;left:102.3pt;line-height:8.0pt\"><b><i><span style=\"font-family:Times New Roman,serif;font-size:8.0pt\">StAR 3, 22. -  Vgl. auch ebd. 6, 86.</span></i></b></p>\\n<p style=\"top:326.0pt;left:102.5pt;line-height:10.0pt\"><i><span style=\"font-family:Times New Roman,serif;font-size:10.0pt\">1671 Juni 26.</span></i></p>\\n<p style=\"top:338.9pt;left:76.9pt;line-height:10.0pt\"><span style=\"font-family:Times New Roman,serif;font-size:10.0pt\">586. </span><i><span style=\"font-family:Times New Roman,serif;font-size:10.0pt\">Gebühr für gekauften Stadt- und Amtrat</span></i></p>\\n<p style=\"top:351.9pt;left:103.4pt;line-height:10.0pt\"><i><span style=\"font-family:Times New Roman,serif;font-size:10.0pt\">Wer fürderhin Stadt- und Amtrat begehrt, soll zuvor 24 Kronen erlegen.</span></i></p>\\n<p style=\"top:369.6pt;left:87.2pt;line-height:6.0pt\"><span style=\"font-family:Times New Roman,serif;font-size:6.0pt\">20 </span></p>\\n<p style=\"top:368.0pt;left:102.2pt;line-height:8.0pt\"><b><i><span style=\"font-family:Times New Roman,serif;font-size:8.0pt\">StAR 6,221.</span></i></b></p>\\n<p style=\"top:387.1pt;left:102.5pt;line-height:10.0pt\"><i><span style=\"font-family:Times New Roman,serif;font-size:10.0pt\">1691 Marz 23.</span></i></p>\\n<p style=\"top:400.0pt;left:77.2pt;line-height:10.0pt\"><span style=\"font-family:Times New Roman,serif;font-size:10.0pt\">587. </span><i><span style=\"font-family:Times New Roman,serif;font-size:10.0pt\">Die Instruktionen für die Ehrengesandten der Tagsatzung gehen von</span></i><span style=\"font-family:Times New Roman,serif;font-size:10.0pt\"> </span></p>\\n<p style=\"top:412.9pt;left:102.4pt;line-height:10.0pt\"><i><span style=\"font-family:Times New Roman,serif;font-size:10.0pt\">ihren Gemeinden aus.</span></i></p>\\n<p style=\"top:429.1pt;left:102.5pt;line-height:8.0pt\"><b><i><span style=\"font-family:Times New Roman,serif;font-size:8.0pt\">StAR 11,114.</span></i></b></p>\\n<p style=\"top:451.7pt;left:87.2pt;line-height:6.0pt\"><span style=\"font-family:Times New Roman,serif;font-size:6.0pt\">25 </span><i><span style=\"font-family:Times New Roman,serif;font-size:10.0pt\">1695 August 29.</span></i></p>\\n<p style=\"top:461.2pt;left:77.3pt;line-height:10.0pt\"><span style=\"font-family:Times New Roman,serif;font-size:10.0pt\">588. </span><i><span style=\"font-family:Times New Roman,serif;font-size:10.0pt\">Standesvertretung bei fürstlichen Ritten</span></i></p>\\n<p style=\"top:477.7pt;left:102.3pt;line-height:8.0pt\"><b><i><span style=\"font-family:Times New Roman,serif;font-size:8.0pt\">EA VI, 2, S.566, Nr. 308 t; dazu S.579, Nr. 312 b; S.590, Nr. 318 q; S.610, Nr. 330</span></i></b><span style=\"font-family:Times New Roman,serif;font-size:8.0pt\"> </span></p>\\n<p style=\"top:488.4pt;left:102.0pt;line-height:8.0pt\"><b><i><span style=\"font-family:Times New Roman,serif;font-size:8.0pt\">g; S.624, Nr. 335 nnn; S.989, Nr. 493 a.</span></i></b></p>\\n<p style=\"top:507.4pt;left:102.6pt;line-height:10.0pt\"><i><span style=\"font-family:Times New Roman,serif;font-size:10.0pt\">1702 Januar 2.</span></i></p>\\n<p style=\"top:520.2pt;left:77.3pt;line-height:10.0pt\"><span style=\"font-family:Times New Roman,serif;font-size:10.0pt\">589. </span><i><span style=\"font-family:Times New Roman,serif;font-size:10.0pt\">Stipendien müssen in Stadt und Amt zur freien Bewerbung ausge\\xad</span></i></p>\\n<p style=\"top:532.7pt;left:102.6pt;line-height:10.0pt\"><i><span style=\"font-family:Times New Roman,serif;font-size:10.0pt\">kündigt werden.</span></i></p>\\n<p style=\"top:548.9pt;left:102.7pt;line-height:8.0pt\"><b><i><span style=\"font-family:Times New Roman,serif;font-size:8.0pt\">StAR 14,265.</span></i></b></p>\\n<p style=\"top:567.9pt;left:102.8pt;line-height:10.0pt\"><i><span style=\"font-family:Times New Roman,serif;font-size:10.0pt\">1722 M a ill.</span></i></p>\\n<p style=\"top:580.7pt;left:77.4pt;line-height:10.0pt\"><span style=\"font-family:Times New Roman,serif;font-size:10.0pt\">590. </span><i><span style=\"font-family:Times New Roman,serif;font-size:10.0pt\">Wegen unanständigem Tabakschmauchen wahrend der Ratszeit vor der</span></i></p>\\n<p style=\"top:596.9pt;left:87.6pt;line-height:6.0pt\"><span style=\"font-family:Times New Roman,serif;font-size:6.0pt\">35 </span><i><span style=\"font-family:Times New Roman,serif;font-size:10.0pt\">Ratsstube auf dem vordem, hintern und untern Estrich sowohl der</span></i></p>\\n</div>',)\u001b[0m\n",
      "\u001b[32m2024-02-24 16:17:04.277\u001b[0m | \u001b[34m\u001b[1mDEBUG   \u001b[0m | \u001b[36mssrq_retro_lab.pipeline.components.html_wrangler\u001b[0m:\u001b[36minvoke\u001b[0m:\u001b[36m47\u001b[0m - \u001b[34m\u001b[1mFound 8 nodes for article 585.\u001b[0m\n"
     ]
    }
   ],
   "source": [
    "cleanup_result = html_wrangler.HTMLWrangler().invoke(text_extraction_result).unwrap()"
   ]
  },
  {
   "cell_type": "code",
   "execution_count": 34,
   "metadata": {},
   "outputs": [
    {
     "data": {
      "text/markdown": [
       "```html\n",
       "<p style=\"top:213.0pt;left:76.7pt;line-height:10.0pt\"><span style=\"font-family:Times New Roman,serif;font-size:10.0pt\">585. </span><i><span style=\"font-family:Times New Roman,serif;font-size:10.0pt\">Amtsgeheimnis</span></i></p>\n",
       "<p style=\"top:226.0pt;left:87.2pt;line-height:10.0pt\"><span style=\"font-family:Times New Roman,serif;font-size:10.0pt\">io </span><i><span style=\"font-family:Times New Roman,serif;font-size:10.0pt\">Ratsherren und Diener sollen das Amtsgeheimnis wahren, nichts aus</span></i><span style=\"font-family:Times New Roman,serif;font-size:10.0pt\"> </span></p>\n",
       "<p style=\"top:238.9pt;left:102.1pt;line-height:10.0pt\"><i><span style=\"font-family:Times New Roman,serif;font-size:10.0pt\">dem Rat und von den Malefikanten im Turm ausschwatzen, ansonst</span></i><span style=\"font-family:Times New Roman,serif;font-size:10.0pt\"> </span></p>\n",
       "<p style=\"top:251.7pt;left:102.1pt;line-height:10.0pt\"><i><span style=\"font-family:Times New Roman,serif;font-size:10.0pt\">sie für drei Monate des Amts und des Dienstes enthoben sind und 50 Ib</span></i><span style=\"font-family:Times New Roman,serif;font-size:10.0pt\"> </span></p>\n",
       "<p style=\"top:264.8pt;left:102.0pt;line-height:10.0pt\"><i><span style=\"font-family:Times New Roman,serif;font-size:10.0pt\">Buße zu erstatten haben.</span></i><span style=\"font-family:Times New Roman,serif;font-size:10.0pt\"> Und wan auch sonderbar bersonen uf myn </span></p>\n",
       "<p style=\"top:277.5pt;left:102.0pt;line-height:10.0pt\"><span style=\"font-family:Times New Roman,serif;font-size:10.0pt\">herren argwonen wurden und in solches verwysen tetten, sollen umb</span></p>\n",
       "<p style=\"top:290.5pt;left:87.5pt;line-height:10.0pt\"><span style=\"font-family:Times New Roman,serif;font-size:10.0pt\">15 60 lb oder 35 kronen abgebüst werden.</span></p>\n",
       "<p style=\"top:306.7pt;left:102.3pt;line-height:8.0pt\"><b><i><span style=\"font-family:Times New Roman,serif;font-size:8.0pt\">StAR 3, 22. -  Vgl. auch ebd. 6, 86.</span></i></b></p>\n",
       "```"
      ],
      "text/plain": [
       "<IPython.core.display.Markdown object>"
      ]
     },
     "execution_count": 34,
     "metadata": {},
     "output_type": "execute_result"
    }
   ],
   "source": [
    "md(\"```html\\n{}\\n```\".format(\"\\n\".join(n.get() for n in cleanup_result[\"article\"])))"
   ]
  },
  {
   "cell_type": "code",
   "execution_count": 36,
   "metadata": {},
   "outputs": [
    {
     "name": "stderr",
     "output_type": "stream",
     "text": [
      "\u001b[32m2024-02-24 16:27:22.794\u001b[0m | \u001b[34m\u001b[1mDEBUG   \u001b[0m | \u001b[36mssrq_retro_lab.pipeline.components.text_classifier\u001b[0m:\u001b[36m_classify_textline\u001b[0m:\u001b[36m123\u001b[0m - \u001b[34m\u001b[1mClassification result for <p style=\"top:213.0pt;left:76.7pt;line-height:10.0pt\"><span style=\"font-family:Times New Roman,serif;font-size:10.0pt\">585. </span><i><span style=\"font-family:Times New Roman,serif;font-size:10.0pt\">Amtsgeheimnis</span></i></p> found in cache.\u001b[0m\n",
      "\u001b[32m2024-02-24 16:27:22.795\u001b[0m | \u001b[34m\u001b[1mDEBUG   \u001b[0m | \u001b[36mssrq_retro_lab.pipeline.components.text_classifier\u001b[0m:\u001b[36m_classify_textline\u001b[0m:\u001b[36m123\u001b[0m - \u001b[34m\u001b[1mClassification result for <p style=\"top:226.0pt;left:87.2pt;line-height:10.0pt\"><span style=\"font-family:Times New Roman,serif;font-size:10.0pt\">io </span><i><span style=\"font-family:Times New Roman,serif;font-size:10.0pt\">Ratsherren und Diener sollen das Amtsgeheimnis wahren, nichts aus</span></i><span style=\"font-family:Times New Roman,serif;font-size:10.0pt\"> </span></p> found in cache.\u001b[0m\n",
      "\u001b[32m2024-02-24 16:27:22.796\u001b[0m | \u001b[34m\u001b[1mDEBUG   \u001b[0m | \u001b[36mssrq_retro_lab.pipeline.components.text_classifier\u001b[0m:\u001b[36m_handle_classification_result\u001b[0m:\u001b[36m164\u001b[0m - \u001b[34m\u001b[1mSkipping line number io\u001b[0m\n",
      "\u001b[32m2024-02-24 16:27:22.796\u001b[0m | \u001b[34m\u001b[1mDEBUG   \u001b[0m | \u001b[36mssrq_retro_lab.pipeline.components.text_classifier\u001b[0m:\u001b[36m_classify_textline\u001b[0m:\u001b[36m123\u001b[0m - \u001b[34m\u001b[1mClassification result for <p style=\"top:238.9pt;left:102.1pt;line-height:10.0pt\"><i><span style=\"font-family:Times New Roman,serif;font-size:10.0pt\">dem Rat und von den Malefikanten im Turm ausschwatzen, ansonst</span></i><span style=\"font-family:Times New Roman,serif;font-size:10.0pt\"> </span></p> found in cache.\u001b[0m\n",
      "\u001b[32m2024-02-24 16:27:22.797\u001b[0m | \u001b[34m\u001b[1mDEBUG   \u001b[0m | \u001b[36mssrq_retro_lab.pipeline.components.text_classifier\u001b[0m:\u001b[36m_classify_textline\u001b[0m:\u001b[36m123\u001b[0m - \u001b[34m\u001b[1mClassification result for <p style=\"top:251.7pt;left:102.1pt;line-height:10.0pt\"><i><span style=\"font-family:Times New Roman,serif;font-size:10.0pt\">sie für drei Monate des Amts und des Dienstes enthoben sind und 50 Ib</span></i><span style=\"font-family:Times New Roman,serif;font-size:10.0pt\"> </span></p> found in cache.\u001b[0m\n",
      "\u001b[32m2024-02-24 16:27:22.797\u001b[0m | \u001b[34m\u001b[1mDEBUG   \u001b[0m | \u001b[36mssrq_retro_lab.pipeline.components.text_classifier\u001b[0m:\u001b[36m_classify_textline\u001b[0m:\u001b[36m123\u001b[0m - \u001b[34m\u001b[1mClassification result for <p style=\"top:264.8pt;left:102.0pt;line-height:10.0pt\"><i><span style=\"font-family:Times New Roman,serif;font-size:10.0pt\">Buße zu erstatten haben.</span></i><span style=\"font-family:Times New Roman,serif;font-size:10.0pt\"> Und wan auch sonderbar bersonen uf myn </span></p> found in cache.\u001b[0m\n",
      "\u001b[32m2024-02-24 16:27:22.798\u001b[0m | \u001b[34m\u001b[1mDEBUG   \u001b[0m | \u001b[36mssrq_retro_lab.pipeline.components.text_classifier\u001b[0m:\u001b[36m_classify_textline\u001b[0m:\u001b[36m123\u001b[0m - \u001b[34m\u001b[1mClassification result for <p style=\"top:277.5pt;left:102.0pt;line-height:10.0pt\"><span style=\"font-family:Times New Roman,serif;font-size:10.0pt\">herren argwonen wurden und in solches verwysen tetten, sollen umb</span></p> found in cache.\u001b[0m\n",
      "\u001b[32m2024-02-24 16:27:22.801\u001b[0m | \u001b[34m\u001b[1mDEBUG   \u001b[0m | \u001b[36mssrq_retro_lab.pipeline.components.text_classifier\u001b[0m:\u001b[36m_classify_textline\u001b[0m:\u001b[36m123\u001b[0m - \u001b[34m\u001b[1mClassification result for <p style=\"top:290.5pt;left:87.5pt;line-height:10.0pt\"><span style=\"font-family:Times New Roman,serif;font-size:10.0pt\">15 60 lb oder 35 kronen abgebüst werden.</span></p> found in cache.\u001b[0m\n",
      "\u001b[32m2024-02-24 16:27:22.805\u001b[0m | \u001b[34m\u001b[1mDEBUG   \u001b[0m | \u001b[36mssrq_retro_lab.pipeline.components.text_classifier\u001b[0m:\u001b[36m_classify_textline\u001b[0m:\u001b[36m123\u001b[0m - \u001b[34m\u001b[1mClassification result for <p style=\"top:306.7pt;left:102.3pt;line-height:8.0pt\"><b><i><span style=\"font-family:Times New Roman,serif;font-size:8.0pt\">StAR 3, 22. -  Vgl. auch ebd. 6, 86.</span></i></b></p> found in cache.\u001b[0m\n"
     ]
    }
   ],
   "source": [
    "classified_result = text_classifier.TextClassifier().invoke(cleanup_result).unwrap()"
   ]
  },
  {
   "cell_type": "code",
   "execution_count": 55,
   "metadata": {},
   "outputs": [
    {
     "name": "stdout",
     "output_type": "stream",
     "text": [
      "Ratsherren und Diener sollen das Amtsgeheimnis wahren, nichts aus\n",
      "dem Rat und von den Malefikanten im Turm ausschwatzen, ansonst\n",
      "sie für drei Monate des Amts und des Dienstes enthoben sind und 50 Ib\n",
      "Buße zu erstatten haben.\n"
     ]
    }
   ],
   "source": [
    "print(\"\\n\".join(classified_result.summary))"
   ]
  },
  {
   "cell_type": "code",
   "execution_count": 58,
   "metadata": {},
   "outputs": [
    {
     "name": "stdout",
     "output_type": "stream",
     "text": [
      "\n",
      "Und wan auch sonderbar bersonen uf myn\n",
      "herren argwonen wurden und in solches verwysen tetten, sollen umb\n",
      "15 60 lb oder 35 kronen abgebüst werden.\n"
     ]
    }
   ],
   "source": [
    "print(\"\\n\".join(classified_result.text))"
   ]
  },
  {
   "cell_type": "markdown",
   "metadata": {},
   "source": [
    "The OCR component uses a fine tuned GPT-3.5 model to correct the text. The model is trained on a set of 493 input examples, randomly selected from the Ground truth data. "
   ]
  },
  {
   "cell_type": "code",
   "execution_count": 59,
   "metadata": {},
   "outputs": [
    {
     "name": "stderr",
     "output_type": "stream",
     "text": [
      "\u001b[32m2024-02-24 17:48:17.680\u001b[0m | \u001b[34m\u001b[1mDEBUG   \u001b[0m | \u001b[36mssrq_retro_lab.pipeline.components.ocr_corrector\u001b[0m:\u001b[36m_correct\u001b[0m:\u001b[36m81\u001b[0m - \u001b[34m\u001b[1mCorrection result for 'You are an expert in Text Classification with proven knowledge in Textual Scholarship.\n",
      "\n",
      "Your task is to correct the following lines of text, which were created with OCR. The text is part of a scholarly edition and is written in old and middle German. The input is a JSON array containing one or more lines of text. Strictly follow this rules:\n",
      "1. Do not modernize the text.\n",
      "2. Correct each line of contained in the input array.\n",
      "3. Do not change the order of the lines.\n",
      "4. Do not add or remove lines.\n",
      "5. Do not mix any lines.\n",
      "\n",
      "Enclose your answer in three backticks. The language should be set to json. Your response must follow the format below:\n",
      "\n",
      "```json\n",
      "{\n",
      "  \"properties\": {\n",
      "    \"text\": {\n",
      "      \"items\": {\n",
      "        \"type\": \"string\"\n",
      "      },\n",
      "      \"title\": \"Text\",\n",
      "      \"type\": \"array\"\n",
      "    }\n",
      "  },\n",
      "  \"required\": [\n",
      "    \"text\"\n",
      "  ],\n",
      "  \"title\": \"CorrectedOCRText\",\n",
      "  \"type\": \"object\"\n",
      "}\n",
      "```\n",
      "\n",
      "Here is the input to correct:\n",
      "\n",
      "```json\n",
      "[\n",
      "  \"\",\n",
      "  \"Und wan auch sonderbar bersonen uf myn\",\n",
      "  \"herren argwonen wurden und in solches verwysen tetten, sollen umb\",\n",
      "  \"15 60 lb oder 35 kronen abgebüst werden.\"\n",
      "]\n",
      "```' found in cache\u001b[0m\n",
      "\u001b[32m2024-02-24 17:48:17.680\u001b[0m | \u001b[34m\u001b[1mDEBUG   \u001b[0m | \u001b[36mssrq_retro_lab.pipeline.components.ocr_corrector\u001b[0m:\u001b[36m_correct\u001b[0m:\u001b[36m82\u001b[0m - \u001b[34m\u001b[1mCorrection result from cache:\n",
      " {\"text\":[\"\",\"Und wan auch sonderbar bersonen uf myn\",\"herren argwonen wurden und in solches verwysen tetten, sollen umb\",\"60 lb oder 35 kronen abgebüst werden.\"]}\u001b[0m\n"
     ]
    }
   ],
   "source": [
    "corrected_text_result = ocr_corrector.OCRCorrector().invoke(classified_result).unwrap()"
   ]
  },
  {
   "cell_type": "code",
   "execution_count": 62,
   "metadata": {},
   "outputs": [
    {
     "data": {
      "text/html": [
       "<div>\n",
       "<style scoped>\n",
       "    .dataframe tbody tr th:only-of-type {\n",
       "        vertical-align: middle;\n",
       "    }\n",
       "\n",
       "    .dataframe tbody tr th {\n",
       "        vertical-align: top;\n",
       "    }\n",
       "\n",
       "    .dataframe thead th {\n",
       "        text-align: right;\n",
       "    }\n",
       "</style>\n",
       "<table border=\"1\" class=\"dataframe\">\n",
       "  <thead>\n",
       "    <tr style=\"text-align: right;\">\n",
       "      <th></th>\n",
       "      <th>source</th>\n",
       "      <th>corrected</th>\n",
       "    </tr>\n",
       "  </thead>\n",
       "  <tbody>\n",
       "    <tr>\n",
       "      <th>0</th>\n",
       "      <td></td>\n",
       "      <td></td>\n",
       "    </tr>\n",
       "    <tr>\n",
       "      <th>1</th>\n",
       "      <td>Und wan auch sonderbar bersonen uf myn</td>\n",
       "      <td>Und wan auch sonderbar bersonen uf myn</td>\n",
       "    </tr>\n",
       "    <tr>\n",
       "      <th>2</th>\n",
       "      <td>herren argwonen wurden und in solches verwysen tetten, sollen umb</td>\n",
       "      <td>herren argwonen wurden und in solches verwysen tetten, sollen umb</td>\n",
       "    </tr>\n",
       "    <tr>\n",
       "      <th>3</th>\n",
       "      <td>15 60 lb oder 35 kronen abgebüst werden.</td>\n",
       "      <td>60 lb oder 35 kronen abgebüst werden.</td>\n",
       "    </tr>\n",
       "  </tbody>\n",
       "</table>\n",
       "</div>"
      ],
      "text/plain": [
       "                                                              source  \\\n",
       "0                                                                      \n",
       "1                             Und wan auch sonderbar bersonen uf myn   \n",
       "2  herren argwonen wurden und in solches verwysen tetten, sollen umb   \n",
       "3                           15 60 lb oder 35 kronen abgebüst werden.   \n",
       "\n",
       "                                                           corrected  \n",
       "0                                                                     \n",
       "1                             Und wan auch sonderbar bersonen uf myn  \n",
       "2  herren argwonen wurden und in solches verwysen tetten, sollen umb  \n",
       "3                              60 lb oder 35 kronen abgebüst werden.  "
      ]
     },
     "execution_count": 62,
     "metadata": {},
     "output_type": "execute_result"
    }
   ],
   "source": [
    "import pandas as pd\n",
    "\n",
    "pd.options.display.max_colwidth = 100\n",
    "\n",
    "ocr_df = pd.DataFrame({'source': corrected_text_result.text, 'corrected': corrected_text_result.corrected_text.text})\n",
    "\n",
    "ocr_df"
   ]
  },
  {
   "cell_type": "code",
   "execution_count": null,
   "metadata": {},
   "outputs": [],
   "source": []
  }
 ],
 "metadata": {
  "kernelspec": {
   "display_name": ".hatch",
   "language": "python",
   "name": "python3"
  },
  "language_info": {
   "codemirror_mode": {
    "name": "ipython",
    "version": 3
   },
   "file_extension": ".py",
   "mimetype": "text/x-python",
   "name": "python",
   "nbconvert_exporter": "python",
   "pygments_lexer": "ipython3",
   "version": "3.12.2"
  }
 },
 "nbformat": 4,
 "nbformat_minor": 2
}
