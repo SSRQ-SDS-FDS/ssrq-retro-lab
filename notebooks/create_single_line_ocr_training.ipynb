{
 "cells": [
  {
   "cell_type": "markdown",
   "metadata": {},
   "source": [
    "# Creation of Training Data for OCR Post-Correction\n",
    "\n",
    "This notebook is used to create a training data for OCR post-correction. In contrast to the previous [approach](./create_training_data.ipynb) where the OCR training data was based on the complete text of a single page, we will be using line-level data in this notebook. \n"
   ]
  },
  {
   "cell_type": "code",
   "execution_count": 56,
   "metadata": {},
   "outputs": [],
   "source": [
    "import json\n",
    "\n",
    "import pandas as pd\n",
    "from ssrq_retro_lab.config import PROJECT_ROOT\n",
    "from ssrq_retro_lab.pipeline.components.text_extractor import (\n",
    "    ExtractionInput,\n",
    "    TextExtractor,\n",
    ")\n",
    "from ssrq_retro_lab.repository import reader, writer\n",
    "from ssrq_retro_lab.train import data, messages\n",
    "from thefuzz import process"
   ]
  },
  {
   "cell_type": "code",
   "execution_count": 6,
   "metadata": {},
   "outputs": [],
   "source": [
    "txt_pdf_conversion_table = json.loads(\n",
    "    reader.TextReader((PROJECT_ROOT / \"data/ZG/txt_to_pdf.json\")).read()\n",
    ")"
   ]
  },
  {
   "cell_type": "code",
   "execution_count": 11,
   "metadata": {},
   "outputs": [],
   "source": [
    "master_transcriptions = [\n",
    "    txt for txt in (PROJECT_ROOT / \"data/ZG/master\").glob(\"*[0-9].txt\")\n",
    "]\n",
    "volumes = [pdf for pdf in (PROJECT_ROOT / \"data/ZG/pdf\").glob(\"*.pdf\")]"
   ]
  },
  {
   "cell_type": "code",
   "execution_count": 33,
   "metadata": {},
   "outputs": [],
   "source": [
    "from collections import namedtuple\n",
    "from parsel import Selector\n",
    "\n",
    "LineToLineMatch = namedtuple(\n",
    "    \"LineToLineMatch\",\n",
    "    [\n",
    "        \"source\",\n",
    "        \"target\",\n",
    "    ],\n",
    ")\n",
    "\n",
    "line_to_line_matches = []\n",
    "\n",
    "for volume in volumes:\n",
    "    doc = reader.PDFReader(volume).read()\n",
    "    volume_name = volume.name.removesuffix(\".pdf\").replace(\".\", \"_\")\n",
    "    transcriptions = [\n",
    "        transcription\n",
    "        for transcription in master_transcriptions\n",
    "        if transcription.name.startswith(volume_name)\n",
    "    ]\n",
    "\n",
    "    for transcription in transcriptions:\n",
    "        page_number = int(\n",
    "            txt_pdf_conversion_table[volume_name][\n",
    "                transcription.name.removesuffix(\".txt\")\n",
    "            ]\n",
    "        )\n",
    "        # extract all lines from the transcription\n",
    "        transcription_lines = (\n",
    "            reader.TextReader(transcription).read().strip().split(\"\\n\")\n",
    "        )\n",
    "        # extract text at the given page\n",
    "        text_extraction = TextExtractor().invoke(\n",
    "            ExtractionInput(1, page_number + 1, page_number + 1)\n",
    "        )\n",
    "        page_paragraphs = Selector(\n",
    "            text_extraction.unwrap()[\"pages\"][0], type=\"xml\"\n",
    "        ).xpath(\"//p\")\n",
    "        text_lines = [p.xpath(\"string()\").get() for p in page_paragraphs]\n",
    "\n",
    "        for transcription_line in transcription_lines:\n",
    "            match_from_extraction = process.extractOne(\n",
    "                transcription_line,\n",
    "                text_lines,\n",
    "            )\n",
    "            line_to_line_matches.append(\n",
    "                LineToLineMatch(match_from_extraction[0], transcription_line)\n",
    "            )"
   ]
  },
  {
   "cell_type": "code",
   "execution_count": 46,
   "metadata": {},
   "outputs": [],
   "source": [
    "pd.set_option(\"display.max_rows\", 50)\n",
    "\n",
    "line_to_line_df = pd.DataFrame(line_to_line_matches)"
   ]
  },
  {
   "cell_type": "code",
   "execution_count": 48,
   "metadata": {},
   "outputs": [],
   "source": [
    "from thefuzz import fuzz\n",
    "\n",
    "# Calculate similarity for each row\n",
    "\n",
    "line_to_line_df[\"similarity\"] = line_to_line_df.apply(\n",
    "    lambda row: fuzz.ratio(row[\"source\"], row[\"target\"]), axis=1\n",
    ")"
   ]
  },
  {
   "cell_type": "code",
   "execution_count": 51,
   "metadata": {},
   "outputs": [
    {
     "name": "stderr",
     "output_type": "stream",
     "text": [
      "/var/folders/zz/66rgnps56_7bx2sjt1f7rsh80000gn/T/ipykernel_87413/3618345602.py:2: SettingWithCopyWarning: \n",
      "A value is trying to be set on a copy of a slice from a DataFrame\n",
      "\n",
      "See the caveats in the documentation: https://pandas.pydata.org/pandas-docs/stable/user_guide/indexing.html#returning-a-view-versus-a-copy\n",
      "  high_similarity_df.sort_values(by=\"similarity\", ascending=False, inplace=True)\n"
     ]
    }
   ],
   "source": [
    "high_similarity_df = line_to_line_df[line_to_line_df[\"similarity\"] >= 75]\n",
    "high_similarity_df.sort_values(by=\"similarity\", ascending=False, inplace=True)\n",
    "training_data_df = high_similarity_df.drop(\"similarity\", axis=1)"
   ]
  },
  {
   "cell_type": "code",
   "execution_count": 54,
   "metadata": {},
   "outputs": [
    {
     "data": {
      "text/html": [
       "<div>\n",
       "<style scoped>\n",
       "    .dataframe tbody tr th:only-of-type {\n",
       "        vertical-align: middle;\n",
       "    }\n",
       "\n",
       "    .dataframe tbody tr th {\n",
       "        vertical-align: top;\n",
       "    }\n",
       "\n",
       "    .dataframe thead th {\n",
       "        text-align: right;\n",
       "    }\n",
       "</style>\n",
       "<table border=\"1\" class=\"dataframe\">\n",
       "  <thead>\n",
       "    <tr style=\"text-align: right;\">\n",
       "      <th></th>\n",
       "      <th>source</th>\n",
       "      <th>target</th>\n",
       "    </tr>\n",
       "  </thead>\n",
       "  <tbody>\n",
       "    <tr>\n",
       "      <th>0</th>\n",
       "      <td>ein herr uff, ald der, dem er denn den gwalt g...</td>\n",
       "      <td>ein herr uff, ald der, dem er denn den gwalt g...</td>\n",
       "    </tr>\n",
       "    <tr>\n",
       "      <th>1</th>\n",
       "      <td>standen dem, den er beklaget vor dem amman des...</td>\n",
       "      <td>standen dem, den er beklaget vor dem amman des...</td>\n",
       "    </tr>\n",
       "    <tr>\n",
       "      <th>2</th>\n",
       "      <td>wegen, gantz ernstlich und fründtlich ermant u...</td>\n",
       "      <td>wegen, gantz ernstlich und fründtlich ermant u...</td>\n",
       "    </tr>\n",
       "    <tr>\n",
       "      <th>3</th>\n",
       "      <td>Signum [MF] Hludowici serenissimi regis.</td>\n",
       "      <td>Signum [MF] Hludowici serenissimi regis.</td>\n",
       "    </tr>\n",
       "    <tr>\n",
       "      <th>4</th>\n",
       "      <td>tation wol bewart syn.</td>\n",
       "      <td>tation wol bewart syn.</td>\n",
       "    </tr>\n",
       "    <tr>\n",
       "      <th>...</th>\n",
       "      <td>...</td>\n",
       "      <td>...</td>\n",
       "    </tr>\n",
       "    <tr>\n",
       "      <th>612</th>\n",
       "      <td>E. Staatswesen • 572-583</td>\n",
       "      <td>E. Staatswesen : 572-183 377</td>\n",
       "    </tr>\n",
       "    <tr>\n",
       "      <th>613</th>\n",
       "      <td>3 s. Ist öch, dc ein gast ze deweder müli melt...</td>\n",
       "      <td>3 s. Ist oͮch, dc ein gâst zê dêwêder múli mêl...</td>\n",
       "    </tr>\n",
       "    <tr>\n",
       "      <th>614</th>\n",
       "      <td>QW 1 ,1, Nr. 17.</td>\n",
       "      <td>QW I, I, Nr. 17.</td>\n",
       "    </tr>\n",
       "    <tr>\n",
       "      <th>615</th>\n",
       "      <td>Hünenberg.</td>\n",
       "      <td>zue Hünenberg</td>\n",
       "    </tr>\n",
       "    <tr>\n",
       "      <th>616</th>\n",
       "      <td>ires vatters oder muotter statt gemeinlich ein...</td>\n",
       "      <td>chen an ireß vatterß oder mueter statt ein erb...</td>\n",
       "    </tr>\n",
       "  </tbody>\n",
       "</table>\n",
       "<p>617 rows × 2 columns</p>\n",
       "</div>"
      ],
      "text/plain": [
       "                                                source  \\\n",
       "0    ein herr uff, ald der, dem er denn den gwalt g...   \n",
       "1    standen dem, den er beklaget vor dem amman des...   \n",
       "2    wegen, gantz ernstlich und fründtlich ermant u...   \n",
       "3             Signum [MF] Hludowici serenissimi regis.   \n",
       "4                               tation wol bewart syn.   \n",
       "..                                                 ...   \n",
       "612                           E. Staatswesen • 572-583   \n",
       "613  3 s. Ist öch, dc ein gast ze deweder müli melt...   \n",
       "614                                   QW 1 ,1, Nr. 17.   \n",
       "615                                         Hünenberg.   \n",
       "616  ires vatters oder muotter statt gemeinlich ein...   \n",
       "\n",
       "                                                target  \n",
       "0    ein herr uff, ald der, dem er denn den gwalt g...  \n",
       "1    standen dem, den er beklaget vor dem amman des...  \n",
       "2    wegen, gantz ernstlich und fründtlich ermant u...  \n",
       "3             Signum [MF] Hludowici serenissimi regis.  \n",
       "4                               tation wol bewart syn.  \n",
       "..                                                 ...  \n",
       "612                       E. Staatswesen : 572-183 377  \n",
       "613  3 s. Ist oͮch, dc ein gâst zê dêwêder múli mêl...  \n",
       "614                                   QW I, I, Nr. 17.  \n",
       "615                                      zue Hünenberg  \n",
       "616  chen an ireß vatterß oder mueter statt ein erb...  \n",
       "\n",
       "[617 rows x 2 columns]"
      ]
     },
     "execution_count": 54,
     "metadata": {},
     "output_type": "execute_result"
    }
   ],
   "source": [
    "# The result is a training set with 617 entries\n",
    "training_data_df.reset_index(drop=True, inplace=True)\n",
    "training_data_df"
   ]
  },
  {
   "cell_type": "code",
   "execution_count": 55,
   "metadata": {},
   "outputs": [],
   "source": [
    "training_data_df.to_pickle(\"./pkl_cache/ocr_line_based_training.pkl\")"
   ]
  },
  {
   "cell_type": "code",
   "execution_count": null,
   "metadata": {},
   "outputs": [],
   "source": []
  }
 ],
 "metadata": {
  "kernelspec": {
   "display_name": ".hatch",
   "language": "python",
   "name": "python3"
  },
  "language_info": {
   "codemirror_mode": {
    "name": "ipython",
    "version": 3
   },
   "file_extension": ".py",
   "mimetype": "text/x-python",
   "name": "python",
   "nbconvert_exporter": "python",
   "pygments_lexer": "ipython3",
   "version": "3.12.1"
  }
 },
 "nbformat": 4,
 "nbformat_minor": 2
}
