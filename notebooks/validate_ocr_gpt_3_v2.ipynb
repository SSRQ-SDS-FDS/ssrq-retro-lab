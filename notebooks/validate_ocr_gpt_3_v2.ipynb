{
 "cells": [
  {
   "cell_type": "code",
   "execution_count": 9,
   "metadata": {},
   "outputs": [],
   "source": [
    "import pandas as pd\n",
    "\n",
    "from ssrq_retro_lab.config import PROJECT_ROOT, ZG_DATA_ROOT\n",
    "from ssrq_retro_lab.pipeline.templates.utils import render_template"
   ]
  },
  {
   "cell_type": "code",
   "execution_count": 10,
   "metadata": {},
   "outputs": [],
   "source": [
    "test = pd.read_pickle(\"./pkl_cache/openai_finetune_ocr_validation_v2.pkl\")"
   ]
  },
  {
   "cell_type": "code",
   "execution_count": 11,
   "metadata": {},
   "outputs": [],
   "source": [
    "import json\n",
    "\n",
    "from ssrq_retro_lab.train.messages import SYSTEM_ROLE_V2\n",
    "from ssrq_retro_lab.pipeline.llm import chat\n",
    "from ssrq_retro_lab.pipeline.components.ocr_corrector import CorrectedOCRText\n",
    "\n",
    "schema = json.dumps(CorrectedOCRText.model_json_schema(), indent=2)"
   ]
  },
  {
   "cell_type": "code",
   "execution_count": 12,
   "metadata": {},
   "outputs": [],
   "source": [
    "prompt = chat.create_chat_completion_param(\n",
    "    system=SYSTEM_ROLE_V2,\n",
    "    user=render_template(\n",
    "        template_name=\"openai_ocr_training_user_v2.jinja2\",\n",
    "        schema=schema,\n",
    "        text_input=json.dumps(test[:40][\"source\"].to_list(), ensure_ascii=False)\n",
    "    ),\n",
    "    assistant=None,\n",
    ")"
   ]
  },
  {
   "cell_type": "code",
   "execution_count": 14,
   "metadata": {},
   "outputs": [
    {
     "name": "stderr",
     "output_type": "stream",
     "text": [
      "\u001b[32m2024-02-19 11:08:44.807\u001b[0m | \u001b[34m\u001b[1mDEBUG   \u001b[0m | \u001b[36mssrq_retro_lab.pipeline.llm.chat\u001b[0m:\u001b[36m_chat_with_open_ai\u001b[0m:\u001b[36m82\u001b[0m - \u001b[34m\u001b[1mRequestion chat completion with model ft:gpt-3.5-turbo-1106:personal:ssrq-ocr-cor:8tgnqalq for prompt:\n",
      " [{'role': 'system', 'content': 'You are an helpful research assistant named Walther, who helps researchers to correct texts. You have an extremly good knowledge in scholarly editing.'}, {'role': 'user', 'content': 'You are an expert in Text Classification with proven knowledge in Textual Scholarship.\\n\\nYour task is to correct the following lines of text, which were created with OCR. The text is part of a scholarly edition and is written in old and middle German. The input is a JSON array containing one or more lines of text. Strictly follow this rules:\\n1. Do not modernize the text.\\n2. Correct each line of contained in the input array.\\n3. Do not change the order of the lines.\\n4. Do not add or remove lines.\\n5. Do not mix any lines.\\n\\nEnclose your answer in three backticks. The language should be set to json. Your response must follow the format below:\\n\\n```json\\n{\\n  \"properties\": {\\n    \"text\": {\\n      \"items\": {\\n        \"type\": \"string\"\\n      },\\n      \"title\": \"Text\",\\n      \"type\": \"array\"\\n    }\\n  },\\n  \"required\": [\\n    \"text\"\\n  ],\\n  \"title\": \"CorrectedOCRText\",\\n  \"type\": \"object\"\\n}\\n```\\n\\nHere is the input to correct:\\n\\n```json\\n[\"Und wan er ein person vergrabt für jedi 1 lib.\", \"25 daz überfuor, als dik er den zaphen zühe, daz sol er bessren mit 3 s d \", \"nöthig befunden zu statuiern und verordnen, daß\", \"und widerumb versünt, ouch mit einandern fründtlich verglichen \", \"gehen und andere auch lehren könne, könte also leichter nit darzu\", \"lüte da und wen malen, so söl er dem ersten malen und aber dar \", \"solle, und danne die vergichten in thurn gelegt: werden sollen. Wird \", \"lich solle herr oberst richter das schwert in die hand nemmen, nieder \", \"schieden den Streit und umschrieben die Grenzen der gegenseitigen \", \"Sant Reglun, des gotzhuses lute von der Richenowa, des gotzhuses \", \"bey ein jeweiliger tit. regierender herr ammann oder in seiner ab- \", \"25 sol den amman nicht irren an sinem gerichte und sol den amman \", \"daß der Ammann von Zug dem Kloster Kappel die Steuerpfänder wegen Inkenberg \", \"bestmeinend geben wollen, das, weilen das Große gricht fast völlig \", \"wegen, gantz ernstlich und fründtlich ermant und gebetten haben\", \"men von Landenberg, Landvogt, und von Hallwil, daß er als Vogt von Rotenburg von \", \"das wir inen öch gönden ze köffenne bi der stat zehen schillinge ald\", \"25 bus vel quicquid in eisdem locis nostri iuris atque possessionis in re \", \"favente gratia rex. Si de rebus terrenis, quas divina sumus largitate \", \"und an schenken sin üntzit an eins herren genäd. Och sol man \", \"25 werden sollen und durch den tit. herren oberst richter dem meister \", \"verfassen lassen.\", \"nit und sich daz befund, der sol anders geben als vil als des waz, \", \"ihrer Pflichten, Einfangen von Schuldigen, Pfändungen.\", \"sol man wissen, wa ein eigenman des gotzhuses stirbet, der sol geben \", \"durch Kaiser Ludwig und seine Sohne bewilligten Unterhalt hatten, \", \"gotzhus ist. Es ist och des gotzhus reht, wer smaltz dem gotzhus sol \", \"zu dem armen delinquenten zu schicken? Wird erkennt, daß die \", \"st ecken 1 gl.\", \"Nr. 102. -  Reg.: Ladewig 1314; QW I, 1, Nr. 262.\", \"und jeder richter allemal seiner gegebenen eydlichen urtheil nach\", \"worbenen freyheit und zu handhabung der dem allerhöchsten so \", \"höve hörent, siben schuo lang und breit. IV. Wer aber des nicht tete, \", \"quale visus sum habere potestative in Zuriccouve in loco et in villa,\", \"1719 Februar 17.\", \"Einkünften der Abtei St. Felix und Regula nachzugehen und gesche\\xad\", \"ein pfund. (Zusatz) für ein ohr abhauwen 3 gl., für zungen schlit- \", \"II. Stadt und Amt\", \"Wan auch für unser standt sehr nutzlich, ja nothwendig wäre, daß \", \"posterum ibidem omni tempore sanctimonialium feminarum sub \"]\\n```'}]\u001b[0m\n",
      "\u001b[32m2024-02-19 11:09:04.591\u001b[0m | \u001b[34m\u001b[1mDEBUG   \u001b[0m | \u001b[36mssrq_retro_lab.pipeline.llm.chat\u001b[0m:\u001b[36m_chat_with_open_ai\u001b[0m:\u001b[36m99\u001b[0m - \u001b[34m\u001b[1mResult returned by ft:gpt-3.5-turbo-1106:personal:ssrq-ocr-cor:8tgnqalq:\n",
      " ```json\n",
      "{\n",
      "  \"text\": [\n",
      "    \"Und wan er ein person vergrabt für jedi 1 lib.\",\n",
      "    \"daz úberfuͤr, als dik er den zaphen zúhe, daz sol er bessren mit 3 s d\",\n",
      "    \"nöthig befunden zu statuiren und verordnen, daß\",\n",
      "    \"und widerumb versünt, ouch mit einandern fründtlich verglichen\",\n",
      "    \"gehen und andere auch lehren könne, könte also leichter nit darzu\",\n",
      "    \"lúte da und wen malen, so söl er dem ersten malen und aber dar\",\n",
      "    \"solle, und danne die vergichten in thurn gelegt: werden sollen. Wird\",\n",
      "    \"lich solle herr oberst richter das schwert in die hand nemmen, nieder\",\n",
      "    \"schieden den Streit und umschrieben die Grenzen der gegenseitigen\",\n",
      "    \"Sant Reglun, des gotzhuses lúte von der Richenowa, des gotzhuses\",\n",
      "    \"bey ein jeweiliger tit. regierender herr ammann oder in seiner ab-\",\n",
      "    \"sol den amman nicht irren an sinem gerichte und sol den amman\",\n",
      "    \"daß der Ammann von Zug dem Kloster Kappel die Steuerpfänder wegen Inkenberg\",\n",
      "    \"bestmeinend geben wollen, das, weilen das Große gricht fast völlig\",\n",
      "    \"wegen, gantz ernstlich und fründtlich ermant und gebetten haben\",\n",
      "    \"men von Landenberg, Landvogt, und von Hallwil, daß er als Vogt von Rotenburg von\",\n",
      "    \"das wir inen öch gönden ze köffenne bi der stat zehen schillinge ald\",\n",
      "    \"bus vel quicquid in eisdem locis nostri iuris atque possessionis in re\",\n",
      "    \"favente gratia rex. Si de rebus terrenis, quas divina sumus largitate\",\n",
      "    \"und an schenken sin úntzit an eins herren genäd. Och sol man\",\n",
      "    \"werden sollen und durch den tit. herren oberst richter dem meister\",\n",
      "    \"verfassen lassen.\",\n",
      "    \"nit und sich daz befund, der sol anders geben als vil als des waz,\",\n",
      "    \"ihrer Pflichten, Einfangen von Schuldigen, Pfändungen.\",\n",
      "    \"sol man wissen, wa ein eigenman des gotzhuses stirbet, der sol geben\",\n",
      "    \"durch Kaiser Ludwig und seine Sohne bewilligten Unterhalt hatten,\",\n",
      "    \"gotzhus ist. Es ist och des gotzhus reht, wer smaltz dem gotzhus sol\",\n",
      "    \"zu dem armen delinquenten zu schicken? Wird erkennt, daß die\",\n",
      "    \"st ecken 1 gl.\",\n",
      "    \"Nr. 102. - Reg.: Ladewig 1314; QW I, 1, Nr. 262.\",\n",
      "    \"und jeder richter allemal seiner gegebenen eydlichen urtheil nach\",\n",
      "    \"worbenen freyheit und zu handhabung der dem allerhöchsten so\",\n",
      "    \"höve hörent, siben schuo lang und breit. IV. Wer aber des nicht tete,\",\n",
      "    \"quale visus sum habere potestative in Zuriccouve in loco et in villa,\",\n",
      "    \"1719 Februar 17.\",\n",
      "    \"Einkünften der Abtei St. Felix und Regula nachzugehen und gesche-\",\n",
      "    \"ein pfund. (Zusatz) für ein ohr abhauwen 3 gl., für zungen schlit-\",\n",
      "    \"II. Stadt und Amt\",\n",
      "    \"Wan auch für unser standt sehr nutzlich, ja nothwendig wäre, daß\",\n",
      "    \"posterum ibidem omni tempore sanctimonialium feminarum sub\"\n",
      "  ]\n",
      "}\n",
      "```\u001b[0m\n"
     ]
    }
   ],
   "source": [
    "response = chat.generate(\n",
    "    prompt=prompt,\n",
    "    model_name=\"ft:gpt-3.5-turbo-1106:personal:ssrq-ocr-cor:8tgnqalq\",\n",
    "    extract_language=True,\n",
    "    language=\"json\",\n",
    ")"
   ]
  },
  {
   "cell_type": "code",
   "execution_count": 16,
   "metadata": {},
   "outputs": [],
   "source": [
    "result = CorrectedOCRText.model_validate_json(response.unwrap())"
   ]
  },
  {
   "cell_type": "code",
   "execution_count": 18,
   "metadata": {},
   "outputs": [],
   "source": [
    "from ssrq_retro_lab.validate import general, ocr\n",
    "\n",
    "expected_results: list[str ] = test[:40][\"target\"].to_list()"
   ]
  },
  {
   "cell_type": "code",
   "execution_count": 19,
   "metadata": {},
   "outputs": [
    {
     "name": "stdout",
     "output_type": "stream",
     "text": [
      "Accuracy: 0.75, F1: 0.75\n"
     ]
    }
   ],
   "source": [
    "accuracy, f1 = general.calc_ml_metrics(expected_results, result.text)\n",
    "\n",
    "print(f\"Accuracy: {accuracy}, F1: {f1}\")"
   ]
  },
  {
   "cell_type": "code",
   "execution_count": 31,
   "metadata": {},
   "outputs": [],
   "source": [
    "import textdistance\n",
    "\n",
    "\n",
    "def calculate_wer(s1, s2):\n",
    "    s1_words = s1.split()\n",
    "    s2_words = s2.split()\n",
    "\n",
    "    lev_distance = textdistance.levenshtein.normalized_distance(s1_words, s2_words) * 100\n",
    "\n",
    "    wer = lev_distance / len(s1_words)\n",
    "\n",
    "    return wer"
   ]
  },
  {
   "cell_type": "code",
   "execution_count": 32,
   "metadata": {},
   "outputs": [
    {
     "name": "stdout",
     "output_type": "stream",
     "text": [
      "Error Rate Before \n",
      " CER: 3.145424836601307, WER: 0.0191766045424582, Cosine Similarity: 0.983545704294228\n",
      "After Correction \n",
      " CER: 1.4043783560512184, WER: 0.013884780469547055, Cosine Similarity: 0.983545704294228\n"
     ]
    }
   ],
   "source": [
    "wer_before = calculate_wer(\n",
    "    \"\\n\".join(expected_results).strip(), \"\\n\".join(test[:40][\"source\"].tolist()).strip()\n",
    ")\n",
    "wer_after = calculate_wer(\n",
    "    \"\\n\".join(expected_results).strip(), \"\\n\".join(result.text).strip()\n",
    ")\n",
    "error_rate_before = ocr.calc_error_rate(\n",
    "    \"\\n\".join(expected_results).strip(), \"\\n\".join(test[:40][\"source\"].tolist()).strip()\n",
    ")\n",
    "error_rate_after = ocr.calc_error_rate(\n",
    "    \"\\n\".join(expected_results).strip(), \"\\n\".join(result.text).strip()\n",
    ")\n",
    "\n",
    "print(\n",
    "    f\"Error Rate Before \\n CER: {error_rate_before.cer}, WER: {wer_before}, Cosine Similarity: {error_rate_after.similarity}\"\n",
    ")\n",
    "print(\n",
    "    f\"After Correction \\n CER: {error_rate_after.cer}, WER: {wer_after}, Cosine Similarity: {error_rate_after.similarity}\"\n",
    ")"
   ]
  },
  {
   "cell_type": "code",
   "execution_count": null,
   "metadata": {},
   "outputs": [],
   "source": []
  }
 ],
 "metadata": {
  "kernelspec": {
   "display_name": ".hatch",
   "language": "python",
   "name": "python3"
  },
  "language_info": {
   "codemirror_mode": {
    "name": "ipython",
    "version": 3
   },
   "file_extension": ".py",
   "mimetype": "text/x-python",
   "name": "python",
   "nbconvert_exporter": "python",
   "pygments_lexer": "ipython3",
   "version": "3.12.1"
  }
 },
 "nbformat": 4,
 "nbformat_minor": 2
}
